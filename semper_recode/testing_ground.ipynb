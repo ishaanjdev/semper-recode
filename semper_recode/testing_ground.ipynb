{
 "cells": [
  {
   "cell_type": "code",
   "execution_count": 1,
   "metadata": {},
   "outputs": [],
   "source": [
    "from semper_recode import *\n",
    "# Example usage\n",
    "my_obj = SemperCode()"
   ]
  },
  {
   "cell_type": "code",
   "execution_count": 2,
   "metadata": {},
   "outputs": [
    {
     "ename": "TypeError",
     "evalue": "argument of type 'NoneType' is not iterable",
     "output_type": "error",
     "traceback": [
      "\u001b[0;31m---------------------------------------------------------------------------\u001b[0m",
      "\u001b[0;31mTypeError\u001b[0m                                 Traceback (most recent call last)",
      "Cell \u001b[0;32mIn[2], line 5\u001b[0m\n\u001b[1;32m      3\u001b[0m sample \u001b[39m=\u001b[39m \u001b[39m\"\u001b[39m\u001b[39mATGCTGATGCTAATGCGTACGTAGCTAA\u001b[39m\u001b[39m\"\u001b[39m\n\u001b[1;32m      4\u001b[0m obj_1 \u001b[39m=\u001b[39m SemperCode(sample)\n\u001b[0;32m----> 5\u001b[0m \u001b[39mif\u001b[39;00m obj_1\u001b[39m.\u001b[39;49mfind_in_frame(sample) \u001b[39m!=\u001b[39m [\u001b[39m0\u001b[39m,\u001b[39m6\u001b[39m,\u001b[39m12\u001b[39m]: \u001b[39m# Expected [0, 6, 12]\u001b[39;00m\n\u001b[1;32m      6\u001b[0m   \u001b[39mraise\u001b[39;00m \u001b[39mValueError\u001b[39;00m(\u001b[39m\"\u001b[39m\u001b[39mfind_in_frame(sample) != [0,6,12]\u001b[39m\u001b[39m\"\u001b[39m)\n\u001b[1;32m      9\u001b[0m \u001b[39m# Out-of-frame\u001b[39;00m\n",
      "File \u001b[0;32m~/Documents/Doc/Caltech/github/semper-recode/semper_recode/semper_recode.py:88\u001b[0m, in \u001b[0;36mSemperCode.find_in_frame\u001b[0;34m(self, sequence)\u001b[0m\n\u001b[1;32m     85\u001b[0m \u001b[39mfor\u001b[39;00m i \u001b[39min\u001b[39;00m \u001b[39mrange\u001b[39m(\u001b[39m0\u001b[39m, \u001b[39mlen\u001b[39m(sequence),\u001b[39m3\u001b[39m):\n\u001b[1;32m     86\u001b[0m     codon \u001b[39m=\u001b[39m sequence[i:i\u001b[39m+\u001b[39m\u001b[39m3\u001b[39m]\n\u001b[0;32m---> 88\u001b[0m     \u001b[39mif\u001b[39;00m codon \u001b[39min\u001b[39;49;00m \u001b[39mself\u001b[39;49m\u001b[39m.\u001b[39;49mstart_codon:\n\u001b[1;32m     89\u001b[0m         pos\u001b[39m.\u001b[39mappend(i)\n\u001b[1;32m     91\u001b[0m \u001b[39mreturn\u001b[39;00m pos\n",
      "\u001b[0;31mTypeError\u001b[0m: argument of type 'NoneType' is not iterable"
     ]
    }
   ],
   "source": [
    "# Test findInFrame(sequence) function\n",
    "#In-frame AUGs\n",
    "sample = \"ATGCTGATGCTAATGCGTACGTAGCTAA\"\n",
    "obj_1 = SemperCode(sample)\n",
    "if obj_1.find_in_frame(sample) != [0,6,12]: # Expected [0, 6, 12]\n",
    "  raise ValueError(\"find_in_frame(sample) != [0,6,12]\")\n",
    "\n",
    "\n",
    "# Out-of-frame\n",
    "sample2 = \"AUTGTTTAUGGCCATTUGSAUG\"\n",
    "obj_2 = SemperCode(sample2)\n",
    "if obj_2.find_in_frame(sample2) != []: # Expected [0, 6, 12]\n",
    "  raise ValueError(\"find_in_frame(sample2) != []\")\n",
    "\n",
    "# ---------------------------------------------------------\n",
    "\n",
    "# Test TIS_sequence(sequence) function\n",
    "# sample3 = \"ATGAAATCGATGACGTCAGTAATGATCGACGTAAGTAAATCGTAAATGACGTAAGTAAATCGGATCGACGTAAGTAAATCGACGTAAGTAAATCGACGTA\"\n",
    "sample3 = \"AAAATG\"\n",
    "obj_3 = SemperCode(sample3)\n",
    "if obj_3.find_in_frame(sample3) != [3]:  # Expected [3]\n",
    "  raise ValueError(\"find_in_frame(sample3) != [3]\")\n",
    "\n"
   ]
  },
  {
   "cell_type": "code",
   "execution_count": null,
   "metadata": {},
   "outputs": [],
   "source": []
  }
 ],
 "metadata": {
  "kernelspec": {
   "display_name": "Python 3",
   "language": "python",
   "name": "python3"
  },
  "language_info": {
   "codemirror_mode": {
    "name": "ipython",
    "version": 3
   },
   "file_extension": ".py",
   "mimetype": "text/x-python",
   "name": "python",
   "nbconvert_exporter": "python",
   "pygments_lexer": "ipython3",
   "version": "3.11.4 (v3.11.4:d2340ef257, Jun  6 2023, 19:15:51) [Clang 13.0.0 (clang-1300.0.29.30)]"
  },
  "orig_nbformat": 4,
  "vscode": {
   "interpreter": {
    "hash": "aee8b7b246df8f9039afb4144a1f6fd8d2ca17a180786b69acc140d282b71a49"
   }
  }
 },
 "nbformat": 4,
 "nbformat_minor": 2
}
