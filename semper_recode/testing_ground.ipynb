{
 "cells": [
  {
   "cell_type": "code",
   "execution_count": 1,
   "metadata": {},
   "outputs": [],
   "source": [
    "from semper_recode import *\n",
    "# Example usage\n",
    "my_obj = SemperRecode(current_path = \"../data/\")"
   ]
  },
  {
   "cell_type": "code",
   "execution_count": 2,
   "metadata": {},
   "outputs": [],
   "source": [
    "# Test findInFrame(sequence) function\n",
    "#In-frame AUGs\n",
    "sample = \"ATGCTGATGCTAATGCGTACGTAGCTAA\"\n",
    "obj_1 = SemperRecode(sample)\n",
    "if obj_1.find_in_frame(sample) != [0,6,12]: # Expected [0, 6, 12]\n",
    "  raise ValueError(\"find_in_frame(sample) != [0,6,12]\")\n",
    "\n",
    "\n",
    "# Out-of-frame\n",
    "sample2 = \"AUTGTTTAUGGCCATTUGSAUG\"\n",
    "obj_2 = SemperRecode(sample2)\n",
    "if obj_2.find_in_frame(sample2) != []: # Expected [0, 6, 12]\n",
    "  raise ValueError(\"find_in_frame(sample2) != []\")\n",
    "\n",
    "# ---------------------------------------------------------\n",
    "\n",
    "# Test TIS_sequence(sequence) function\n",
    "# sample3 = \"ATGAAATCGATGACGTCAGTAATGATCGACGTAAGTAAATCGTAAATGACGTAAGTAAATCGGATCGACGTAAGTAAATCGACGTAAGTAAATCGACGTA\"\n",
    "sample3 = \"AAAATG\"\n",
    "obj_3 = SemperRecode(sample3)\n",
    "if obj_3.find_in_frame(sample3) != [3]:  # Expected [3]\n",
    "  raise ValueError(\"find_in_frame(sample3) != [3]\")\n",
    "\n"
   ]
  },
  {
   "cell_type": "code",
   "execution_count": null,
   "metadata": {},
   "outputs": [],
   "source": []
  }
 ],
 "metadata": {
  "kernelspec": {
   "display_name": "Python 3",
   "language": "python",
   "name": "python3"
  },
  "language_info": {
   "codemirror_mode": {
    "name": "ipython",
    "version": 3
   },
   "file_extension": ".py",
   "mimetype": "text/x-python",
   "name": "python",
   "nbconvert_exporter": "python",
   "pygments_lexer": "ipython3",
   "version": "3.11.4"
  },
  "orig_nbformat": 4,
  "vscode": {
   "interpreter": {
    "hash": "aee8b7b246df8f9039afb4144a1f6fd8d2ca17a180786b69acc140d282b71a49"
   }
  }
 },
 "nbformat": 4,
 "nbformat_minor": 2
}
